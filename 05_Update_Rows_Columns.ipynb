{
 "cells": [
  {
   "cell_type": "markdown",
   "id": "0f7a521d",
   "metadata": {},
   "source": [
    "# Updating Rows and Columns in Dataframe\n",
    "* Rename all the column names\n",
    "* Rename single column name\n",
    "* Rename column name to Lower/Upper case letters\n",
    "* Rename single column name\n",
    "* Replace space or underscore in column name\n",
    "* Change all the row values referenced to index.\n",
    "* Change specific the row values referenced to index.\n",
    "* Converting/Replacing multiple values in column\n",
    "* Functions:\n",
    "    * apply \n",
    "    * applymap\n",
    "    * map\n",
    "    * replace\n"
   ]
  },
  {
   "cell_type": "code",
   "execution_count": 43,
   "id": "bb814261",
   "metadata": {},
   "outputs": [],
   "source": [
    "# Importing pandas library and loading data\n",
    "import pandas as pd\n",
    "df = pd.read_csv(r\"C:\\Users\\battih\\Desktop\\Personal\\Python\\data\\extracted_data\\survey_results_public.csv\")\n",
    "schema_df = pd.read_csv(r\"C:\\Users\\battih\\Desktop\\Personal\\Python\\data\\extracted_data\\survey_results_schema.csv\")"
   ]
  },
  {
   "cell_type": "code",
   "execution_count": 44,
   "id": "04442af7",
   "metadata": {},
   "outputs": [],
   "source": [
    "people = {\n",
    "    'first' : ['Huzefa', 'Jane', 'John'],\n",
    "    'last' : ['Battiwala', 'Doe', 'Doe'],\n",
    "    'email' : ['battih@gmail.com', 'johndoe@gmail.com', 'janedoe@gmail.com']\n",
    "}\n",
    "\n",
    "dict_df = pd.DataFrame(people)"
   ]
  },
  {
   "cell_type": "markdown",
   "id": "56894729",
   "metadata": {},
   "source": [
    "Rename all the column name"
   ]
  },
  {
   "cell_type": "code",
   "execution_count": 45,
   "id": "626b5fc4",
   "metadata": {},
   "outputs": [],
   "source": [
    "dict_df.columns = ['first name', 'last name','email']"
   ]
  },
  {
   "cell_type": "markdown",
   "id": "e996281d",
   "metadata": {},
   "source": [
    "Rename the column name to lower/upper case letters"
   ]
  },
  {
   "cell_type": "code",
   "execution_count": 46,
   "id": "0cfbf5e3",
   "metadata": {},
   "outputs": [],
   "source": [
    "dict_df.columns = [x.upper() for x in dict_df.columns]"
   ]
  },
  {
   "cell_type": "code",
   "execution_count": 47,
   "id": "d11686c2",
   "metadata": {},
   "outputs": [
    {
     "data": {
      "text/html": [
       "<div>\n",
       "<style scoped>\n",
       "    .dataframe tbody tr th:only-of-type {\n",
       "        vertical-align: middle;\n",
       "    }\n",
       "\n",
       "    .dataframe tbody tr th {\n",
       "        vertical-align: top;\n",
       "    }\n",
       "\n",
       "    .dataframe thead th {\n",
       "        text-align: right;\n",
       "    }\n",
       "</style>\n",
       "<table border=\"1\" class=\"dataframe\">\n",
       "  <thead>\n",
       "    <tr style=\"text-align: right;\">\n",
       "      <th></th>\n",
       "      <th>FIRST NAME</th>\n",
       "      <th>LAST NAME</th>\n",
       "      <th>EMAIL</th>\n",
       "    </tr>\n",
       "  </thead>\n",
       "  <tbody>\n",
       "    <tr>\n",
       "      <th>0</th>\n",
       "      <td>Huzefa</td>\n",
       "      <td>Battiwala</td>\n",
       "      <td>battih@gmail.com</td>\n",
       "    </tr>\n",
       "    <tr>\n",
       "      <th>1</th>\n",
       "      <td>Jane</td>\n",
       "      <td>Doe</td>\n",
       "      <td>johndoe@gmail.com</td>\n",
       "    </tr>\n",
       "    <tr>\n",
       "      <th>2</th>\n",
       "      <td>John</td>\n",
       "      <td>Doe</td>\n",
       "      <td>janedoe@gmail.com</td>\n",
       "    </tr>\n",
       "  </tbody>\n",
       "</table>\n",
       "</div>"
      ],
      "text/plain": [
       "  FIRST NAME  LAST NAME              EMAIL\n",
       "0     Huzefa  Battiwala   battih@gmail.com\n",
       "1       Jane        Doe  johndoe@gmail.com\n",
       "2       John        Doe  janedoe@gmail.com"
      ]
     },
     "execution_count": 47,
     "metadata": {},
     "output_type": "execute_result"
    }
   ],
   "source": [
    "dict_df"
   ]
  },
  {
   "cell_type": "code",
   "execution_count": 48,
   "id": "e3eba0f2",
   "metadata": {},
   "outputs": [
    {
     "data": {
      "text/html": [
       "<div>\n",
       "<style scoped>\n",
       "    .dataframe tbody tr th:only-of-type {\n",
       "        vertical-align: middle;\n",
       "    }\n",
       "\n",
       "    .dataframe tbody tr th {\n",
       "        vertical-align: top;\n",
       "    }\n",
       "\n",
       "    .dataframe thead th {\n",
       "        text-align: right;\n",
       "    }\n",
       "</style>\n",
       "<table border=\"1\" class=\"dataframe\">\n",
       "  <thead>\n",
       "    <tr style=\"text-align: right;\">\n",
       "      <th></th>\n",
       "      <th>FIRST_NAME</th>\n",
       "      <th>LAST_NAME</th>\n",
       "      <th>EMAIL</th>\n",
       "    </tr>\n",
       "  </thead>\n",
       "  <tbody>\n",
       "    <tr>\n",
       "      <th>0</th>\n",
       "      <td>Huzefa</td>\n",
       "      <td>Battiwala</td>\n",
       "      <td>battih@gmail.com</td>\n",
       "    </tr>\n",
       "    <tr>\n",
       "      <th>1</th>\n",
       "      <td>Jane</td>\n",
       "      <td>Doe</td>\n",
       "      <td>johndoe@gmail.com</td>\n",
       "    </tr>\n",
       "    <tr>\n",
       "      <th>2</th>\n",
       "      <td>John</td>\n",
       "      <td>Doe</td>\n",
       "      <td>janedoe@gmail.com</td>\n",
       "    </tr>\n",
       "  </tbody>\n",
       "</table>\n",
       "</div>"
      ],
      "text/plain": [
       "  FIRST_NAME  LAST_NAME              EMAIL\n",
       "0     Huzefa  Battiwala   battih@gmail.com\n",
       "1       Jane        Doe  johndoe@gmail.com\n",
       "2       John        Doe  janedoe@gmail.com"
      ]
     },
     "execution_count": 48,
     "metadata": {},
     "output_type": "execute_result"
    }
   ],
   "source": [
    "dict_df.columns = dict_df.columns.str.replace(' ', '_')\n",
    "dict_df"
   ]
  },
  {
   "cell_type": "markdown",
   "id": "5eda4360",
   "metadata": {},
   "source": [
    "Rename respective column name"
   ]
  },
  {
   "cell_type": "code",
   "execution_count": 49,
   "id": "86f36253",
   "metadata": {},
   "outputs": [
    {
     "data": {
      "text/html": [
       "<div>\n",
       "<style scoped>\n",
       "    .dataframe tbody tr th:only-of-type {\n",
       "        vertical-align: middle;\n",
       "    }\n",
       "\n",
       "    .dataframe tbody tr th {\n",
       "        vertical-align: top;\n",
       "    }\n",
       "\n",
       "    .dataframe thead th {\n",
       "        text-align: right;\n",
       "    }\n",
       "</style>\n",
       "<table border=\"1\" class=\"dataframe\">\n",
       "  <thead>\n",
       "    <tr style=\"text-align: right;\">\n",
       "      <th></th>\n",
       "      <th>first</th>\n",
       "      <th>last</th>\n",
       "      <th>email</th>\n",
       "    </tr>\n",
       "  </thead>\n",
       "  <tbody>\n",
       "    <tr>\n",
       "      <th>0</th>\n",
       "      <td>Huzefa</td>\n",
       "      <td>Battiwala</td>\n",
       "      <td>battih@gmail.com</td>\n",
       "    </tr>\n",
       "    <tr>\n",
       "      <th>1</th>\n",
       "      <td>Jane</td>\n",
       "      <td>Doe</td>\n",
       "      <td>johndoe@gmail.com</td>\n",
       "    </tr>\n",
       "    <tr>\n",
       "      <th>2</th>\n",
       "      <td>John</td>\n",
       "      <td>Doe</td>\n",
       "      <td>janedoe@gmail.com</td>\n",
       "    </tr>\n",
       "  </tbody>\n",
       "</table>\n",
       "</div>"
      ],
      "text/plain": [
       "    first       last              email\n",
       "0  Huzefa  Battiwala   battih@gmail.com\n",
       "1    Jane        Doe  johndoe@gmail.com\n",
       "2    John        Doe  janedoe@gmail.com"
      ]
     },
     "execution_count": 49,
     "metadata": {},
     "output_type": "execute_result"
    }
   ],
   "source": [
    "dict_df.rename(columns={'FIRST_NAME':'first', 'LAST_NAME':'last', 'EMAIL':'email'},inplace=True)\n",
    "dict_df"
   ]
  },
  {
   "cell_type": "markdown",
   "id": "128ba4e7",
   "metadata": {},
   "source": [
    "Change all the row values referenced to index."
   ]
  },
  {
   "cell_type": "code",
   "execution_count": 50,
   "id": "6639c72f",
   "metadata": {},
   "outputs": [],
   "source": [
    "dict_df.loc[2] = ['John', 'Smith', 'johnsmith@email.com']"
   ]
  },
  {
   "cell_type": "code",
   "execution_count": 51,
   "id": "506ee5d9",
   "metadata": {},
   "outputs": [
    {
     "data": {
      "text/html": [
       "<div>\n",
       "<style scoped>\n",
       "    .dataframe tbody tr th:only-of-type {\n",
       "        vertical-align: middle;\n",
       "    }\n",
       "\n",
       "    .dataframe tbody tr th {\n",
       "        vertical-align: top;\n",
       "    }\n",
       "\n",
       "    .dataframe thead th {\n",
       "        text-align: right;\n",
       "    }\n",
       "</style>\n",
       "<table border=\"1\" class=\"dataframe\">\n",
       "  <thead>\n",
       "    <tr style=\"text-align: right;\">\n",
       "      <th></th>\n",
       "      <th>first</th>\n",
       "      <th>last</th>\n",
       "      <th>email</th>\n",
       "    </tr>\n",
       "  </thead>\n",
       "  <tbody>\n",
       "    <tr>\n",
       "      <th>0</th>\n",
       "      <td>Huzefa</td>\n",
       "      <td>Battiwala</td>\n",
       "      <td>battih@gmail.com</td>\n",
       "    </tr>\n",
       "    <tr>\n",
       "      <th>1</th>\n",
       "      <td>Jane</td>\n",
       "      <td>Doe</td>\n",
       "      <td>johndoe@gmail.com</td>\n",
       "    </tr>\n",
       "    <tr>\n",
       "      <th>2</th>\n",
       "      <td>John</td>\n",
       "      <td>Smith</td>\n",
       "      <td>johnsmith@email.com</td>\n",
       "    </tr>\n",
       "  </tbody>\n",
       "</table>\n",
       "</div>"
      ],
      "text/plain": [
       "    first       last                email\n",
       "0  Huzefa  Battiwala     battih@gmail.com\n",
       "1    Jane        Doe    johndoe@gmail.com\n",
       "2    John      Smith  johnsmith@email.com"
      ]
     },
     "execution_count": 51,
     "metadata": {},
     "output_type": "execute_result"
    }
   ],
   "source": [
    "dict_df"
   ]
  },
  {
   "cell_type": "markdown",
   "id": "5c0253d7",
   "metadata": {},
   "source": [
    "Change specific row values referenced to index."
   ]
  },
  {
   "cell_type": "code",
   "execution_count": 52,
   "id": "384b5857",
   "metadata": {},
   "outputs": [
    {
     "data": {
      "text/html": [
       "<div>\n",
       "<style scoped>\n",
       "    .dataframe tbody tr th:only-of-type {\n",
       "        vertical-align: middle;\n",
       "    }\n",
       "\n",
       "    .dataframe tbody tr th {\n",
       "        vertical-align: top;\n",
       "    }\n",
       "\n",
       "    .dataframe thead th {\n",
       "        text-align: right;\n",
       "    }\n",
       "</style>\n",
       "<table border=\"1\" class=\"dataframe\">\n",
       "  <thead>\n",
       "    <tr style=\"text-align: right;\">\n",
       "      <th></th>\n",
       "      <th>first</th>\n",
       "      <th>last</th>\n",
       "      <th>email</th>\n",
       "    </tr>\n",
       "  </thead>\n",
       "  <tbody>\n",
       "    <tr>\n",
       "      <th>0</th>\n",
       "      <td>Huzefa</td>\n",
       "      <td>Battiwala</td>\n",
       "      <td>battih@gmail.com</td>\n",
       "    </tr>\n",
       "    <tr>\n",
       "      <th>1</th>\n",
       "      <td>Jane</td>\n",
       "      <td>Doe</td>\n",
       "      <td>johndoe@gmail.com</td>\n",
       "    </tr>\n",
       "    <tr>\n",
       "      <th>2</th>\n",
       "      <td>John</td>\n",
       "      <td>Doe</td>\n",
       "      <td>johndoe@email.com</td>\n",
       "    </tr>\n",
       "  </tbody>\n",
       "</table>\n",
       "</div>"
      ],
      "text/plain": [
       "    first       last              email\n",
       "0  Huzefa  Battiwala   battih@gmail.com\n",
       "1    Jane        Doe  johndoe@gmail.com\n",
       "2    John        Doe  johndoe@email.com"
      ]
     },
     "execution_count": 52,
     "metadata": {},
     "output_type": "execute_result"
    }
   ],
   "source": [
    "dict_df.loc[2,['last','email']] = ['Doe', 'johndoe@email.com']\n",
    "dict_df"
   ]
  },
  {
   "cell_type": "code",
   "execution_count": 53,
   "id": "c6231e85",
   "metadata": {},
   "outputs": [
    {
     "data": {
      "text/html": [
       "<div>\n",
       "<style scoped>\n",
       "    .dataframe tbody tr th:only-of-type {\n",
       "        vertical-align: middle;\n",
       "    }\n",
       "\n",
       "    .dataframe tbody tr th {\n",
       "        vertical-align: top;\n",
       "    }\n",
       "\n",
       "    .dataframe thead th {\n",
       "        text-align: right;\n",
       "    }\n",
       "</style>\n",
       "<table border=\"1\" class=\"dataframe\">\n",
       "  <thead>\n",
       "    <tr style=\"text-align: right;\">\n",
       "      <th></th>\n",
       "      <th>first</th>\n",
       "      <th>last</th>\n",
       "      <th>email</th>\n",
       "    </tr>\n",
       "  </thead>\n",
       "  <tbody>\n",
       "    <tr>\n",
       "      <th>0</th>\n",
       "      <td>Huzefa</td>\n",
       "      <td>Battiwala</td>\n",
       "      <td>battih@gmail.com</td>\n",
       "    </tr>\n",
       "    <tr>\n",
       "      <th>1</th>\n",
       "      <td>Jane</td>\n",
       "      <td>Doe</td>\n",
       "      <td>johndoe@gmail.com</td>\n",
       "    </tr>\n",
       "    <tr>\n",
       "      <th>2</th>\n",
       "      <td>John</td>\n",
       "      <td>Doe</td>\n",
       "      <td>johndoe@email.com</td>\n",
       "    </tr>\n",
       "  </tbody>\n",
       "</table>\n",
       "</div>"
      ],
      "text/plain": [
       "    first       last              email\n",
       "0  Huzefa  Battiwala   battih@gmail.com\n",
       "1    Jane        Doe  johndoe@gmail.com\n",
       "2    John        Doe  johndoe@email.com"
      ]
     },
     "execution_count": 53,
     "metadata": {},
     "output_type": "execute_result"
    }
   ],
   "source": [
    "dict_df.at[2,'last'] = 'Doe'\n",
    "dict_df"
   ]
  },
  {
   "cell_type": "code",
   "execution_count": 54,
   "id": "c40673e7",
   "metadata": {},
   "outputs": [
    {
     "name": "stderr",
     "output_type": "stream",
     "text": [
      "C:\\Users\\battih\\AppData\\Local\\Temp\\ipykernel_24656\\987776763.py:2: SettingWithCopyWarning: \n",
      "A value is trying to be set on a copy of a slice from a DataFrame.\n",
      "Try using .loc[row_indexer,col_indexer] = value instead\n",
      "\n",
      "See the caveats in the documentation: https://pandas.pydata.org/pandas-docs/stable/user_guide/indexing.html#returning-a-view-versus-a-copy\n",
      "  dict_df[filt]['last'] = 'Smith'\n"
     ]
    }
   ],
   "source": [
    "filt = (dict_df['email'] == 'johndoe@email.com')\n",
    "dict_df[filt]['last'] = 'Smith'"
   ]
  },
  {
   "cell_type": "code",
   "execution_count": 55,
   "id": "e4cfb2c0",
   "metadata": {},
   "outputs": [],
   "source": [
    "filt = (dict_df['email'] == 'johndoe@email.com')\n",
    "dict_df.loc[filt,'last'] = 'Smith'"
   ]
  },
  {
   "cell_type": "code",
   "execution_count": 56,
   "id": "5d32c23c",
   "metadata": {},
   "outputs": [
    {
     "data": {
      "text/html": [
       "<div>\n",
       "<style scoped>\n",
       "    .dataframe tbody tr th:only-of-type {\n",
       "        vertical-align: middle;\n",
       "    }\n",
       "\n",
       "    .dataframe tbody tr th {\n",
       "        vertical-align: top;\n",
       "    }\n",
       "\n",
       "    .dataframe thead th {\n",
       "        text-align: right;\n",
       "    }\n",
       "</style>\n",
       "<table border=\"1\" class=\"dataframe\">\n",
       "  <thead>\n",
       "    <tr style=\"text-align: right;\">\n",
       "      <th></th>\n",
       "      <th>first</th>\n",
       "      <th>last</th>\n",
       "      <th>email</th>\n",
       "    </tr>\n",
       "  </thead>\n",
       "  <tbody>\n",
       "    <tr>\n",
       "      <th>0</th>\n",
       "      <td>Huzefa</td>\n",
       "      <td>Battiwala</td>\n",
       "      <td>battih@gmail.com</td>\n",
       "    </tr>\n",
       "    <tr>\n",
       "      <th>1</th>\n",
       "      <td>Jane</td>\n",
       "      <td>Doe</td>\n",
       "      <td>johndoe@gmail.com</td>\n",
       "    </tr>\n",
       "    <tr>\n",
       "      <th>2</th>\n",
       "      <td>John</td>\n",
       "      <td>Smith</td>\n",
       "      <td>johndoe@email.com</td>\n",
       "    </tr>\n",
       "  </tbody>\n",
       "</table>\n",
       "</div>"
      ],
      "text/plain": [
       "    first       last              email\n",
       "0  Huzefa  Battiwala   battih@gmail.com\n",
       "1    Jane        Doe  johndoe@gmail.com\n",
       "2    John      Smith  johndoe@email.com"
      ]
     },
     "execution_count": 56,
     "metadata": {},
     "output_type": "execute_result"
    }
   ],
   "source": [
    "dict_df"
   ]
  },
  {
   "cell_type": "code",
   "execution_count": 57,
   "id": "b27c4a44",
   "metadata": {},
   "outputs": [],
   "source": [
    "dict_df.loc[filt,'email'] = 'JohnDoe@email.com'"
   ]
  },
  {
   "cell_type": "markdown",
   "id": "6938eb42",
   "metadata": {},
   "source": [
    "Converting/Replacing multiple values in column\n"
   ]
  },
  {
   "cell_type": "code",
   "execution_count": 58,
   "id": "42ae9b08",
   "metadata": {},
   "outputs": [
    {
     "data": {
      "text/html": [
       "<div>\n",
       "<style scoped>\n",
       "    .dataframe tbody tr th:only-of-type {\n",
       "        vertical-align: middle;\n",
       "    }\n",
       "\n",
       "    .dataframe tbody tr th {\n",
       "        vertical-align: top;\n",
       "    }\n",
       "\n",
       "    .dataframe thead th {\n",
       "        text-align: right;\n",
       "    }\n",
       "</style>\n",
       "<table border=\"1\" class=\"dataframe\">\n",
       "  <thead>\n",
       "    <tr style=\"text-align: right;\">\n",
       "      <th></th>\n",
       "      <th>first</th>\n",
       "      <th>last</th>\n",
       "      <th>email</th>\n",
       "    </tr>\n",
       "  </thead>\n",
       "  <tbody>\n",
       "    <tr>\n",
       "      <th>0</th>\n",
       "      <td>Huzefa</td>\n",
       "      <td>Battiwala</td>\n",
       "      <td>battih@gmail.com</td>\n",
       "    </tr>\n",
       "    <tr>\n",
       "      <th>1</th>\n",
       "      <td>Jane</td>\n",
       "      <td>Doe</td>\n",
       "      <td>johndoe@gmail.com</td>\n",
       "    </tr>\n",
       "    <tr>\n",
       "      <th>2</th>\n",
       "      <td>John</td>\n",
       "      <td>Smith</td>\n",
       "      <td>johndoe@email.com</td>\n",
       "    </tr>\n",
       "  </tbody>\n",
       "</table>\n",
       "</div>"
      ],
      "text/plain": [
       "    first       last              email\n",
       "0  Huzefa  Battiwala   battih@gmail.com\n",
       "1    Jane        Doe  johndoe@gmail.com\n",
       "2    John      Smith  johndoe@email.com"
      ]
     },
     "execution_count": 58,
     "metadata": {},
     "output_type": "execute_result"
    }
   ],
   "source": [
    "dict_df['email'] = dict_df['email'].str.lower()\n",
    "dict_df"
   ]
  },
  {
   "cell_type": "code",
   "execution_count": 59,
   "id": "60861a13",
   "metadata": {},
   "outputs": [
    {
     "data": {
      "text/html": [
       "<div>\n",
       "<style scoped>\n",
       "    .dataframe tbody tr th:only-of-type {\n",
       "        vertical-align: middle;\n",
       "    }\n",
       "\n",
       "    .dataframe tbody tr th {\n",
       "        vertical-align: top;\n",
       "    }\n",
       "\n",
       "    .dataframe thead th {\n",
       "        text-align: right;\n",
       "    }\n",
       "</style>\n",
       "<table border=\"1\" class=\"dataframe\">\n",
       "  <thead>\n",
       "    <tr style=\"text-align: right;\">\n",
       "      <th></th>\n",
       "      <th>first</th>\n",
       "      <th>last</th>\n",
       "      <th>email</th>\n",
       "    </tr>\n",
       "  </thead>\n",
       "  <tbody>\n",
       "    <tr>\n",
       "      <th>0</th>\n",
       "      <td>Huzefa</td>\n",
       "      <td>Battiwala</td>\n",
       "      <td>battih@email.com</td>\n",
       "    </tr>\n",
       "    <tr>\n",
       "      <th>1</th>\n",
       "      <td>Jane</td>\n",
       "      <td>Doe</td>\n",
       "      <td>johndoe@email.com</td>\n",
       "    </tr>\n",
       "    <tr>\n",
       "      <th>2</th>\n",
       "      <td>John</td>\n",
       "      <td>Smith</td>\n",
       "      <td>johndoe@email.com</td>\n",
       "    </tr>\n",
       "  </tbody>\n",
       "</table>\n",
       "</div>"
      ],
      "text/plain": [
       "    first       last              email\n",
       "0  Huzefa  Battiwala   battih@email.com\n",
       "1    Jane        Doe  johndoe@email.com\n",
       "2    John      Smith  johndoe@email.com"
      ]
     },
     "execution_count": 59,
     "metadata": {},
     "output_type": "execute_result"
    }
   ],
   "source": [
    "dict_df['email'] = dict_df['email'].str.replace('gmail','email')\n",
    "dict_df"
   ]
  },
  {
   "cell_type": "markdown",
   "id": "e98923e4",
   "metadata": {},
   "source": [
    "### Apply Function: It allows user to pass a function and apply it on every single value of the series"
   ]
  },
  {
   "cell_type": "code",
   "execution_count": 60,
   "id": "1ce33113",
   "metadata": {},
   "outputs": [
    {
     "data": {
      "text/plain": [
       "0    16\n",
       "1    17\n",
       "2    17\n",
       "Name: email, dtype: int64"
      ]
     },
     "execution_count": 60,
     "metadata": {},
     "output_type": "execute_result"
    }
   ],
   "source": [
    "# Using len function to derive the length of string present in email column\n",
    "dict_df['email'].apply(len)"
   ]
  },
  {
   "cell_type": "code",
   "execution_count": 61,
   "id": "8831ad3f",
   "metadata": {},
   "outputs": [
    {
     "data": {
      "text/html": [
       "<div>\n",
       "<style scoped>\n",
       "    .dataframe tbody tr th:only-of-type {\n",
       "        vertical-align: middle;\n",
       "    }\n",
       "\n",
       "    .dataframe tbody tr th {\n",
       "        vertical-align: top;\n",
       "    }\n",
       "\n",
       "    .dataframe thead th {\n",
       "        text-align: right;\n",
       "    }\n",
       "</style>\n",
       "<table border=\"1\" class=\"dataframe\">\n",
       "  <thead>\n",
       "    <tr style=\"text-align: right;\">\n",
       "      <th></th>\n",
       "      <th>first</th>\n",
       "      <th>last</th>\n",
       "      <th>email</th>\n",
       "    </tr>\n",
       "  </thead>\n",
       "  <tbody>\n",
       "    <tr>\n",
       "      <th>0</th>\n",
       "      <td>Huzefa</td>\n",
       "      <td>Battiwala</td>\n",
       "      <td>BATTIH@EMAIL.COM</td>\n",
       "    </tr>\n",
       "    <tr>\n",
       "      <th>1</th>\n",
       "      <td>Jane</td>\n",
       "      <td>Doe</td>\n",
       "      <td>JOHNDOE@EMAIL.COM</td>\n",
       "    </tr>\n",
       "    <tr>\n",
       "      <th>2</th>\n",
       "      <td>John</td>\n",
       "      <td>Smith</td>\n",
       "      <td>JOHNDOE@EMAIL.COM</td>\n",
       "    </tr>\n",
       "  </tbody>\n",
       "</table>\n",
       "</div>"
      ],
      "text/plain": [
       "    first       last              email\n",
       "0  Huzefa  Battiwala   BATTIH@EMAIL.COM\n",
       "1    Jane        Doe  JOHNDOE@EMAIL.COM\n",
       "2    John      Smith  JOHNDOE@EMAIL.COM"
      ]
     },
     "execution_count": 61,
     "metadata": {},
     "output_type": "execute_result"
    }
   ],
   "source": [
    "# Using anonumyous function to convert the value in email column to upper case\n",
    "dict_df['email'] = dict_df['email'].apply(lambda x: x.upper())\n",
    "dict_df"
   ]
  },
  {
   "cell_type": "code",
   "execution_count": 62,
   "id": "f88295be",
   "metadata": {},
   "outputs": [
    {
     "data": {
      "text/html": [
       "<div>\n",
       "<style scoped>\n",
       "    .dataframe tbody tr th:only-of-type {\n",
       "        vertical-align: middle;\n",
       "    }\n",
       "\n",
       "    .dataframe tbody tr th {\n",
       "        vertical-align: top;\n",
       "    }\n",
       "\n",
       "    .dataframe thead th {\n",
       "        text-align: right;\n",
       "    }\n",
       "</style>\n",
       "<table border=\"1\" class=\"dataframe\">\n",
       "  <thead>\n",
       "    <tr style=\"text-align: right;\">\n",
       "      <th></th>\n",
       "      <th>first</th>\n",
       "      <th>last</th>\n",
       "      <th>email</th>\n",
       "    </tr>\n",
       "  </thead>\n",
       "  <tbody>\n",
       "    <tr>\n",
       "      <th>0</th>\n",
       "      <td>Huzefa</td>\n",
       "      <td>Battiwala</td>\n",
       "      <td>battih@email.com</td>\n",
       "    </tr>\n",
       "    <tr>\n",
       "      <th>1</th>\n",
       "      <td>Jane</td>\n",
       "      <td>Doe</td>\n",
       "      <td>johndoe@email.com</td>\n",
       "    </tr>\n",
       "    <tr>\n",
       "      <th>2</th>\n",
       "      <td>John</td>\n",
       "      <td>Smith</td>\n",
       "      <td>johndoe@email.com</td>\n",
       "    </tr>\n",
       "  </tbody>\n",
       "</table>\n",
       "</div>"
      ],
      "text/plain": [
       "    first       last              email\n",
       "0  Huzefa  Battiwala   battih@email.com\n",
       "1    Jane        Doe  johndoe@email.com\n",
       "2    John      Smith  johndoe@email.com"
      ]
     },
     "execution_count": 62,
     "metadata": {},
     "output_type": "execute_result"
    }
   ],
   "source": [
    "# Using uder defined function to convert the value in email column to upper case\n",
    "def lower_email(email):\n",
    "    return email.lower()\n",
    "dict_df['email'] = dict_df['email'].apply(lower_email)\n",
    "dict_df"
   ]
  },
  {
   "cell_type": "code",
   "execution_count": 63,
   "id": "44b1e4f7",
   "metadata": {},
   "outputs": [
    {
     "data": {
      "text/plain": [
       "first              Huzefa\n",
       "last            Battiwala\n",
       "email    battih@email.com\n",
       "dtype: object"
      ]
     },
     "execution_count": 63,
     "metadata": {},
     "output_type": "execute_result"
    }
   ],
   "source": [
    "# Using minimum function to get the least value in all column email column to upper case\n",
    " \n",
    "dict_df.apply(lambda x: x.min())"
   ]
  },
  {
   "cell_type": "markdown",
   "id": "ec1c7ed6",
   "metadata": {},
   "source": [
    "### Applymap function applies a function that accepts and returns a scalar to every element in dataframe."
   ]
  },
  {
   "cell_type": "code",
   "execution_count": 64,
   "id": "00997843",
   "metadata": {},
   "outputs": [
    {
     "name": "stderr",
     "output_type": "stream",
     "text": [
      "C:\\Users\\battih\\AppData\\Local\\Temp\\ipykernel_24656\\3366479784.py:1: FutureWarning: DataFrame.applymap has been deprecated. Use DataFrame.map instead.\n",
      "  dict_df.applymap(len)\n"
     ]
    },
    {
     "data": {
      "text/html": [
       "<div>\n",
       "<style scoped>\n",
       "    .dataframe tbody tr th:only-of-type {\n",
       "        vertical-align: middle;\n",
       "    }\n",
       "\n",
       "    .dataframe tbody tr th {\n",
       "        vertical-align: top;\n",
       "    }\n",
       "\n",
       "    .dataframe thead th {\n",
       "        text-align: right;\n",
       "    }\n",
       "</style>\n",
       "<table border=\"1\" class=\"dataframe\">\n",
       "  <thead>\n",
       "    <tr style=\"text-align: right;\">\n",
       "      <th></th>\n",
       "      <th>first</th>\n",
       "      <th>last</th>\n",
       "      <th>email</th>\n",
       "    </tr>\n",
       "  </thead>\n",
       "  <tbody>\n",
       "    <tr>\n",
       "      <th>0</th>\n",
       "      <td>6</td>\n",
       "      <td>9</td>\n",
       "      <td>16</td>\n",
       "    </tr>\n",
       "    <tr>\n",
       "      <th>1</th>\n",
       "      <td>4</td>\n",
       "      <td>3</td>\n",
       "      <td>17</td>\n",
       "    </tr>\n",
       "    <tr>\n",
       "      <th>2</th>\n",
       "      <td>4</td>\n",
       "      <td>5</td>\n",
       "      <td>17</td>\n",
       "    </tr>\n",
       "  </tbody>\n",
       "</table>\n",
       "</div>"
      ],
      "text/plain": [
       "   first  last  email\n",
       "0      6     9     16\n",
       "1      4     3     17\n",
       "2      4     5     17"
      ]
     },
     "execution_count": 64,
     "metadata": {},
     "output_type": "execute_result"
    }
   ],
   "source": [
    "dict_df.applymap(len)"
   ]
  },
  {
   "cell_type": "code",
   "execution_count": 65,
   "id": "8ba8f413",
   "metadata": {},
   "outputs": [
    {
     "name": "stderr",
     "output_type": "stream",
     "text": [
      "C:\\Users\\battih\\AppData\\Local\\Temp\\ipykernel_24656\\1598617996.py:1: FutureWarning: DataFrame.applymap has been deprecated. Use DataFrame.map instead.\n",
      "  dict_df.applymap(str.lower)\n"
     ]
    },
    {
     "data": {
      "text/html": [
       "<div>\n",
       "<style scoped>\n",
       "    .dataframe tbody tr th:only-of-type {\n",
       "        vertical-align: middle;\n",
       "    }\n",
       "\n",
       "    .dataframe tbody tr th {\n",
       "        vertical-align: top;\n",
       "    }\n",
       "\n",
       "    .dataframe thead th {\n",
       "        text-align: right;\n",
       "    }\n",
       "</style>\n",
       "<table border=\"1\" class=\"dataframe\">\n",
       "  <thead>\n",
       "    <tr style=\"text-align: right;\">\n",
       "      <th></th>\n",
       "      <th>first</th>\n",
       "      <th>last</th>\n",
       "      <th>email</th>\n",
       "    </tr>\n",
       "  </thead>\n",
       "  <tbody>\n",
       "    <tr>\n",
       "      <th>0</th>\n",
       "      <td>huzefa</td>\n",
       "      <td>battiwala</td>\n",
       "      <td>battih@email.com</td>\n",
       "    </tr>\n",
       "    <tr>\n",
       "      <th>1</th>\n",
       "      <td>jane</td>\n",
       "      <td>doe</td>\n",
       "      <td>johndoe@email.com</td>\n",
       "    </tr>\n",
       "    <tr>\n",
       "      <th>2</th>\n",
       "      <td>john</td>\n",
       "      <td>smith</td>\n",
       "      <td>johndoe@email.com</td>\n",
       "    </tr>\n",
       "  </tbody>\n",
       "</table>\n",
       "</div>"
      ],
      "text/plain": [
       "    first       last              email\n",
       "0  huzefa  battiwala   battih@email.com\n",
       "1    jane        doe  johndoe@email.com\n",
       "2    john      smith  johndoe@email.com"
      ]
     },
     "execution_count": 65,
     "metadata": {},
     "output_type": "execute_result"
    }
   ],
   "source": [
    "dict_df.applymap(str.lower)"
   ]
  },
  {
   "cell_type": "markdown",
   "id": "ea0c3eff",
   "metadata": {},
   "source": [
    "Difference between apply and applymap:\n",
    "The `applymap` method in pandas is tailor-made for DataFrame operations, offering a straightforward approach to apply a function to each element individually. Unlike `apply`, which operates on rows or columns, `applymap` is designed specifically for element-wise transformations across the entire DataFrame"
   ]
  },
  {
   "cell_type": "markdown",
   "id": "27335510",
   "metadata": {},
   "source": [
    "### Map: It is used to map values from two series having one similar column"
   ]
  },
  {
   "cell_type": "code",
   "execution_count": 66,
   "id": "0c43f31b",
   "metadata": {},
   "outputs": [
    {
     "data": {
      "text/plain": [
       "0    Chris\n",
       "1    Marry\n",
       "2      NaN\n",
       "Name: first, dtype: object"
      ]
     },
     "execution_count": 66,
     "metadata": {},
     "output_type": "execute_result"
    }
   ],
   "source": [
    "dict_df['first'].map({'Huzefa':'Chris','Jane':'Marry'},)"
   ]
  },
  {
   "cell_type": "markdown",
   "id": "58402dab",
   "metadata": {},
   "source": [
    "### Replace function is used to replace a string, regex, list, dictionary, series, number, etc. from a Pandas Dataframe in Python. "
   ]
  },
  {
   "cell_type": "code",
   "execution_count": 67,
   "id": "7fcb19ca",
   "metadata": {},
   "outputs": [
    {
     "data": {
      "text/plain": [
       "0    Chris\n",
       "1    Marry\n",
       "2     John\n",
       "Name: first, dtype: object"
      ]
     },
     "execution_count": 67,
     "metadata": {},
     "output_type": "execute_result"
    }
   ],
   "source": [
    "dict_df['first'].replace({'Huzefa':'Chris','Jane':'Marry'},)"
   ]
  },
  {
   "cell_type": "markdown",
   "id": "492b4c54",
   "metadata": {},
   "source": [
    "Difference between replace and map is, if the value is not present then map will update it as nan whereas replace wiill replace it with existing value present in column"
   ]
  },
  {
   "cell_type": "code",
   "execution_count": 68,
   "id": "0ae6e09f",
   "metadata": {},
   "outputs": [],
   "source": [
    "# Renaming column name in dataframe\n",
    "df.rename(columns={'ConvertedComp':'SalaryUSD'},inplace=True)"
   ]
  },
  {
   "cell_type": "code",
   "execution_count": 69,
   "id": "3d91097c",
   "metadata": {},
   "outputs": [
    {
     "data": {
      "text/plain": [
       "0            NaN\n",
       "1            NaN\n",
       "2         8820.0\n",
       "3        61000.0\n",
       "4            NaN\n",
       "          ...   \n",
       "88878        NaN\n",
       "88879        NaN\n",
       "88880        NaN\n",
       "88881        NaN\n",
       "88882        NaN\n",
       "Name: SalaryUSD, Length: 88883, dtype: float64"
      ]
     },
     "execution_count": 69,
     "metadata": {},
     "output_type": "execute_result"
    }
   ],
   "source": [
    "df['SalaryUSD']"
   ]
  },
  {
   "cell_type": "code",
   "execution_count": 70,
   "id": "80eb4988",
   "metadata": {},
   "outputs": [],
   "source": [
    "# mapping boolean value for yes and no in Hobbyist column\n",
    "df['Hobbyist'] = df['Hobbyist'].map({'Yes':True,'No':False})"
   ]
  },
  {
   "cell_type": "code",
   "execution_count": 71,
   "id": "1ce976e0",
   "metadata": {},
   "outputs": [
    {
     "data": {
      "text/plain": [
       "<bound method IndexOpsMixin.value_counts of 0         True\n",
       "1        False\n",
       "2         True\n",
       "3        False\n",
       "4         True\n",
       "         ...  \n",
       "88878     True\n",
       "88879    False\n",
       "88880    False\n",
       "88881    False\n",
       "88882     True\n",
       "Name: Hobbyist, Length: 88883, dtype: bool>"
      ]
     },
     "execution_count": 71,
     "metadata": {},
     "output_type": "execute_result"
    }
   ],
   "source": [
    "df['Hobbyist'].value_counts"
   ]
  },
  {
   "cell_type": "code",
   "execution_count": null,
   "id": "08d86281",
   "metadata": {},
   "outputs": [],
   "source": []
  }
 ],
 "metadata": {
  "kernelspec": {
   "display_name": "myenv",
   "language": "python",
   "name": "python3"
  },
  "language_info": {
   "codemirror_mode": {
    "name": "ipython",
    "version": 3
   },
   "file_extension": ".py",
   "mimetype": "text/x-python",
   "name": "python",
   "nbconvert_exporter": "python",
   "pygments_lexer": "ipython3",
   "version": "3.12.0"
  }
 },
 "nbformat": 4,
 "nbformat_minor": 5
}
